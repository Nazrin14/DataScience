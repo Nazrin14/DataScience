{
  "nbformat": 4,
  "nbformat_minor": 0,
  "metadata": {
    "colab": {
      "provenance": []
    },
    "kernelspec": {
      "name": "python3",
      "display_name": "Python 3"
    },
    "language_info": {
      "name": "python"
    }
  },
  "cells": [
    {
      "cell_type": "code",
      "source": [
        "import numpy as np\n",
        "array_from_list=np.array([1,2,3,4,5])\n",
        "print(\"Array from list:\",array_from_list)"
      ],
      "metadata": {
        "id": "DqHWpHI0GR54"
      },
      "execution_count": null,
      "outputs": []
    },
    {
      "cell_type": "code",
      "source": [
        "array_with_range=np.arange(10)\n",
        "print(\"Array with range:\",array_with_range)"
      ],
      "metadata": {
        "id": "yi7m9HhDGWef"
      },
      "execution_count": null,
      "outputs": []
    },
    {
      "cell_type": "code",
      "source": [
        "zeros_array=np.zeros((3,3))\n",
        "print(\"Array of zeros:\\n\",zeros_array)"
      ],
      "metadata": {
        "id": "xJCkwbhrGXFP"
      },
      "execution_count": null,
      "outputs": []
    },
    {
      "cell_type": "code",
      "source": [
        "ones_array=np.ones((2,5))\n",
        "print(\"Array of ones:\\n\",ones_array)"
      ],
      "metadata": {
        "id": "E1pqavYmGY3n"
      },
      "execution_count": null,
      "outputs": []
    },
    {
      "cell_type": "code",
      "execution_count": null,
      "metadata": {
        "colab": {
          "base_uri": "https://localhost:8080/"
        },
        "id": "3hGeZJCKB1Bs",
        "outputId": "75321547-c0d3-4a75-b151-1e2c5bb1c617"
      },
      "outputs": [
        {
          "output_type": "stream",
          "name": "stdout",
          "text": [
            "Addition: [5 7 9]\n",
            "Substraction: [-3 -3 -3]\n",
            "Multiplication: [ 4 10 18]\n",
            "Division: [0.25 0.4  0.5 ]\n"
          ]
        }
      ],
      "source": [
        "#PROGRAM 2\n",
        "import numpy as np\n",
        "a=np.array([1,2,3])\n",
        "b=np.array([4,5,6])\n",
        "add_result=np.add(a,b)\n",
        "print(\"Addition:\",add_result)\n",
        "sub_result=np.subtract(a,b)\n",
        "print(\"Substraction:\",sub_result)\n",
        "mul_result=np.multiply(a,b)\n",
        "print(\"Multiplication:\",mul_result)\n",
        "div_result=np.divide(a,b)\n",
        "print(\"Division:\",div_result)"
      ]
    },
    {
      "cell_type": "code",
      "source": [
        "#PROGRAM 3\n",
        "import numpy as np\n",
        "array=np.arange(12)\n",
        "print(\"Original array:\",array)\n",
        "reshaped_array=array.reshape((3,4))\n",
        "print(\"Reshaped to 3x4:\\n\",reshaped_array)\n",
        "reshaped_array_3d=array.reshape((2,3,2))\n",
        "print(\"Reshaped to 2x3x2:\\n\",reshaped_array_3d)"
      ],
      "metadata": {
        "id": "TzLJBkucEJcT",
        "outputId": "bb83a609-f8d5-4d68-95fd-1b535692db95",
        "colab": {
          "base_uri": "https://localhost:8080/"
        }
      },
      "execution_count": null,
      "outputs": [
        {
          "output_type": "stream",
          "name": "stdout",
          "text": [
            "Original array: [ 0  1  2  3  4  5  6  7  8  9 10 11]\n",
            "Reshaped to 3x4:\n",
            " [[ 0  1  2  3]\n",
            " [ 4  5  6  7]\n",
            " [ 8  9 10 11]]\n",
            "Reshaped to 2x3x2:\n",
            " [[[ 0  1]\n",
            "  [ 2  3]\n",
            "  [ 4  5]]\n",
            "\n",
            " [[ 6  7]\n",
            "  [ 8  9]\n",
            "  [10 11]]]\n"
          ]
        }
      ]
    },
    {
      "cell_type": "code",
      "source": [
        "#PROGRAM 4\n",
        "import numpy as np\n",
        "array_2d=np.array([[1,2,3],[4,5,6],[7,8,9]])\n",
        "print(\"2D Array:\\n\",array_2d)\n",
        "element=array_2d[1,2]\n",
        "print(\"Element at (1,2):\",element)\n",
        "subarray=array_2d[1:3,0:2]\n",
        "print(\"Sliced subarray:\\n\",subarray)\n",
        "column=array_2d[:,1]\n",
        "print(\"Column 1:\",column)"
      ],
      "metadata": {
        "id": "5vjyp1rzFhMw",
        "colab": {
          "base_uri": "https://localhost:8080/"
        },
        "outputId": "19316cac-99c9-4500-c33e-a2877c3b8b9b"
      },
      "execution_count": null,
      "outputs": [
        {
          "output_type": "stream",
          "name": "stdout",
          "text": [
            "2D Array:\n",
            " [[1 2 3]\n",
            " [4 5 6]\n",
            " [7 8 9]]\n",
            "Element at (1,2): 6\n",
            "Sliced subarray:\n",
            " [[4 5]\n",
            " [7 8]]\n",
            "Column 1: [2 5 8]\n"
          ]
        }
      ]
    },
    {
      "cell_type": "code",
      "source": [
        "#PROGRAM 5\n",
        "import numpy as np\n",
        "array=np.array([1,2,3,4,5,6,7,8,9,10])\n",
        "mean=np.mean(array)\n",
        "print(\"Mean:\",mean)\n",
        "median=np.median(array)\n",
        "print(\"Median:\",median)\n",
        "std_dev=np.std(array)\n",
        "print(\"Standard deviation:\",std_dev)\n",
        "min_val=np.min(array)\n",
        "max_val=np.max(array)\n",
        "print(\"Minimum value:\",min_val)\n",
        "print(\"Maximum value:\",max_val)"
      ],
      "metadata": {
        "colab": {
          "base_uri": "https://localhost:8080/"
        },
        "id": "l8Pj_sHyHh3s",
        "outputId": "519e572a-d3fa-49b3-f34b-6f91224cc298"
      },
      "execution_count": null,
      "outputs": [
        {
          "output_type": "stream",
          "name": "stdout",
          "text": [
            "Mean: 5.5\n",
            "Median: 5.5\n",
            "Standard deviation: 2.8722813232690143\n",
            "Minimum value: 1\n",
            "Maximum value: 10\n"
          ]
        }
      ]
    }
  ]
}